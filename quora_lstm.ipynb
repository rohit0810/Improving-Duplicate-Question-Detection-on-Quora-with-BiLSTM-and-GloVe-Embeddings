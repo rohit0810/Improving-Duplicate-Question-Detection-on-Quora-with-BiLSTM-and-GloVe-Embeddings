{
 "cells": [
  {
   "cell_type": "code",
   "execution_count": 1,
   "id": "51285f10-bb89-40f0-b344-16d925baf0bb",
   "metadata": {},
   "outputs": [
    {
     "name": "stderr",
     "output_type": "stream",
     "text": [
      "2024-07-30 16:38:51.381221: I tensorflow/core/util/port.cc:153] oneDNN custom operations are on. You may see slightly different numerical results due to floating-point round-off errors from different computation orders. To turn them off, set the environment variable `TF_ENABLE_ONEDNN_OPTS=0`.\n",
      "2024-07-30 16:38:51.382584: I external/local_xla/xla/tsl/cuda/cudart_stub.cc:32] Could not find cuda drivers on your machine, GPU will not be used.\n",
      "2024-07-30 16:38:51.385868: I external/local_xla/xla/tsl/cuda/cudart_stub.cc:32] Could not find cuda drivers on your machine, GPU will not be used.\n",
      "2024-07-30 16:38:51.395337: E external/local_xla/xla/stream_executor/cuda/cuda_fft.cc:485] Unable to register cuFFT factory: Attempting to register factory for plugin cuFFT when one has already been registered\n",
      "2024-07-30 16:38:51.411003: E external/local_xla/xla/stream_executor/cuda/cuda_dnn.cc:8454] Unable to register cuDNN factory: Attempting to register factory for plugin cuDNN when one has already been registered\n",
      "2024-07-30 16:38:51.415576: E external/local_xla/xla/stream_executor/cuda/cuda_blas.cc:1452] Unable to register cuBLAS factory: Attempting to register factory for plugin cuBLAS when one has already been registered\n",
      "2024-07-30 16:38:51.427785: I tensorflow/core/platform/cpu_feature_guard.cc:210] This TensorFlow binary is optimized to use available CPU instructions in performance-critical operations.\n",
      "To enable the following instructions: AVX2 AVX512F AVX512_VNNI FMA, in other operations, rebuild TensorFlow with the appropriate compiler flags.\n",
      "2024-07-30 16:38:52.134725: W tensorflow/compiler/tf2tensorrt/utils/py_utils.cc:38] TF-TRT Warning: Could not find TensorRT\n"
     ]
    }
   ],
   "source": [
    "# Importing libraries for image handling and plotting\n",
    "import matplotlib.image as mpimg\n",
    "import matplotlib.pyplot as plt\n",
    "\n",
    "# Importing libraries for numerical operations and data manipulation\n",
    "import numpy as np\n",
    "import pandas as pd\n",
    "\n",
    "# Importing libraries for text processing and sequence handling in Keras\n",
    "from tensorflow.keras.preprocessing.sequence import pad_sequences\n",
    "from tensorflow.keras.preprocessing.text import Tokenizer\n",
    "from tensorflow.keras.utils import to_categorical, plot_model\n",
    "\n",
    "# Importing callback functions for training models in Keras\n",
    "from tensorflow.keras.callbacks import EarlyStopping, ModelCheckpoint, TensorBoard\n",
    "\n",
    "# Importing layers and models from Keras\n",
    "from tensorflow.keras.layers import (Activation, BatchNormalization, Bidirectional, Conv1D,\n",
    "                                     Dense, Dropout, Embedding, Flatten, Input, LSTM, Lambda, MaxPool1D,\n",
    "                                     concatenate)\n",
    "from tensorflow.keras.models import Model, Sequential, load_model\n",
    "\n",
    "# Importing standard libraries for regular expressions, time, and system operations\n",
    "import re\n",
    "import time\n",
    "from operator import itemgetter\n",
    "import csv\n",
    "import gc\n",
    "import os\n"
   ]
  },
  {
   "cell_type": "code",
   "execution_count": 2,
   "id": "3a9b8472-6968-45dc-9dcd-1c57207dff49",
   "metadata": {},
   "outputs": [],
   "source": [
    "file_path = 'train.csv'\n",
    "data = pd.read_csv(file_path)\n",
    "\n",
    "# Set the display option for maximum column width\n",
    "pd.set_option('display.max_colwidth', 80)\n"
   ]
  },
  {
   "cell_type": "code",
   "execution_count": 3,
   "id": "9f835731-c8fd-4241-b772-a99406151d80",
   "metadata": {},
   "outputs": [
    {
     "name": "stdout",
     "output_type": "stream",
     "text": [
      "id               int64\n",
      "qid1             int64\n",
      "qid2             int64\n",
      "question1       object\n",
      "question2       object\n",
      "is_duplicate     int64\n",
      "dtype: object\n",
      "object\n",
      "object\n"
     ]
    },
    {
     "data": {
      "text/plain": [
       "pandas.core.series.Series"
      ]
     },
     "execution_count": 3,
     "metadata": {},
     "output_type": "execute_result"
    }
   ],
   "source": [
    "print(data.dtypes)\n",
    "print(data['question1'].dtypes)\n",
    "print(data['question2'].dtypes)\n",
    "type(data['question1'])"
   ]
  },
  {
   "cell_type": "code",
   "execution_count": 4,
   "id": "e2e5280a-1053-4d3e-a1a0-31c02470ab91",
   "metadata": {},
   "outputs": [
    {
     "name": "stdout",
     "output_type": "stream",
     "text": [
      "[0, 0, 0, 0, 0, 1, 0, 1, 0, 0]\n"
     ]
    }
   ],
   "source": [
    "t_label = list(data['is_duplicate'])\n",
    "print(t_label[:10])"
   ]
  },
  {
   "cell_type": "code",
   "execution_count": 5,
   "id": "69cf7e47-fc69-49a3-b9fd-4eb33b6af385",
   "metadata": {},
   "outputs": [],
   "source": [
    "question_one=data['question1'].astype(str)\n",
    "question_two=data['question2'].astype(str)\n"
   ]
  },
  {
   "cell_type": "code",
   "execution_count": 6,
   "id": "dad71bdd-c4f9-4788-ae54-39696b3371ae",
   "metadata": {},
   "outputs": [],
   "source": [
    "# Import the Tokenizer from Keras\n",
    "# from tensorflow.keras.preprocessing.text import Tokenizer\n",
    "\n",
    "# Initialize the Tokenizer with specified parameters\n",
    "tok_all = Tokenizer(filters='!\"#$%&\\'()*+,-./:;<=>?@[\\\\]^_`{|}~', lower=True, char_level=False)\n",
    "\n",
    "# Fit the Tokenizer on the combined texts of question_one and question_two\n",
    "combined_texts = question_one + question_two\n",
    "tok_all.fit_on_texts(combined_texts)\n",
    "vocabulary_all=len(tok_all.word_counts)\n",
    "# Alternatively, you could fit the Tokenizer on additional text data\n",
    "# combined_texts = question_one + question_two + question_one_test + question_two_test\n",
    "# tokenizer.fit_on_texts(combined_texts)\n"
   ]
  },
  {
   "cell_type": "code",
   "execution_count": 7,
   "id": "9709ed12-c08a-45a5-8dc8-23fce1640ad8",
   "metadata": {},
   "outputs": [],
   "source": [
    "encoded_q1=tok_all.texts_to_sequences(question_one)\n",
    "encoded_q2=tok_all.texts_to_sequences(question_two)\n"
   ]
  },
  {
   "cell_type": "code",
   "execution_count": 8,
   "id": "851aa766-6927-4f84-a35e-3999e6c12ed9",
   "metadata": {},
   "outputs": [],
   "source": [
    "from keras.preprocessing import sequence\n",
    "max_length=100\n",
    "padded_docs_q1 = sequence.pad_sequences(encoded_q1, maxlen=max_length, padding='pre')"
   ]
  },
  {
   "cell_type": "code",
   "execution_count": 9,
   "id": "85ab9ab3-81bd-407b-bcf3-b73d01cff299",
   "metadata": {},
   "outputs": [],
   "source": [
    "from keras.preprocessing import sequence\n",
    "max_length=100\n",
    "padded_docs_q2 = sequence.pad_sequences(encoded_q2, maxlen=max_length, padding='pre')"
   ]
  },
  {
   "cell_type": "code",
   "execution_count": 10,
   "id": "919fc633-46b7-4937-a14d-5617a766e8f6",
   "metadata": {},
   "outputs": [
    {
     "name": "stdout",
     "output_type": "stream",
     "text": [
      "Loaded 104562 word vectors.\n"
     ]
    }
   ],
   "source": [
    "embeddings_index = {}\n",
    "#f = open('drive/My Drive/ML Internship IIIT Dharwad/Copy of glove.6B.300d.txt')\n",
    "f = open('glove.6B.300d.txt')\n",
    "for line in f:\n",
    "    values = line.split()\n",
    "    word = values[0]\n",
    "    coefs = np.asarray(values[1:], dtype='float32')\n",
    "    embeddings_index[word] = coefs\n",
    "f.close()\n",
    "print('Loaded %s word vectors.' % len(embeddings_index))"
   ]
  },
  {
   "cell_type": "code",
   "execution_count": 11,
   "id": "10744de4-f16d-497f-aa64-89f701d18cb1",
   "metadata": {},
   "outputs": [],
   "source": [
    "# Create an embedding matrix to map each word in the vocabulary to its corresponding embedding vector\n",
    "embedding_matrix = np.zeros((vocabulary_all + 1, 300))\n",
    "\n",
    "# Iterate over each word and its index in the tokenizer's word index\n",
    "for word, i in tok_all.word_index.items():\n",
    "    # Retrieve the embedding vector for the current word from the embeddings index\n",
    "    embedding_vector = embeddings_index.get(word)\n",
    "    \n",
    "    if embedding_vector is not None:\n",
    "        # If the embedding vector is found, assign it to the corresponding row in the embedding matrix\n",
    "        # Words not found in the embedding index will remain as all-zeros in the embedding matrix\n",
    "        embedding_matrix[i] = embedding_vector\n"
   ]
  },
  {
   "cell_type": "code",
   "execution_count": 12,
   "id": "d3c0b69f-36fb-4b7f-a868-753d3b404a43",
   "metadata": {},
   "outputs": [],
   "source": [
    "VALIDATION_SPLIT = 0.3\n",
    "RATE_DROP_LSTM = 0.17\n",
    "RATE_DROP_DENSE = 0.25\n",
    "NUMBER_DENSE_UNITS = 64\n",
    "ACTIVATION_FUNCTION = 'relu' \n",
    "rate_drop_lstm = RATE_DROP_LSTM\n",
    "number_dense_units = NUMBER_DENSE_UNITS\n",
    "activation_function = ACTIVATION_FUNCTION\n",
    "rate_drop_dense = RATE_DROP_DENSE\n",
    "validation_split_ratio = VALIDATION_SPLIT"
   ]
  },
  {
   "cell_type": "code",
   "execution_count": 13,
   "id": "1bf7a04c-f913-4d6b-843a-48fbab06f362",
   "metadata": {},
   "outputs": [],
   "source": [
    "def commonWords():\n",
    "   # leak data\n",
    "   length_features = [[len(set(x1)), len(set(x2)), len(set(x1).intersection(x2))] for x1, x2 in zip(encoded_q1, encoded_q2)]\n",
    "   length_features = np.array(length_features)\n",
    "   return length_features\n",
    "length_features= commonWords()"
   ]
  },
  {
   "cell_type": "code",
   "execution_count": 14,
   "id": "798b9570-7da9-45f7-9c8b-83d73a12f19e",
   "metadata": {},
   "outputs": [],
   "source": [
    "label_twoDimension = to_categorical(data['is_duplicate'], num_classes=2)"
   ]
  },
  {
   "cell_type": "code",
   "execution_count": 15,
   "id": "a70c2f17-f1c3-4af2-b3bf-0209cb19b63e",
   "metadata": {},
   "outputs": [],
   "source": [
    "from sklearn.model_selection import train_test_split\n",
    "text_train_q1, text_test_q1, text_train_q2, text_test_q2, length_features_train, length_features_test, label_train, label_test = train_test_split(padded_docs_q1, padded_docs_q2, length_features, label_twoDimension, test_size=0.3, random_state=42)\n"
   ]
  },
  {
   "cell_type": "code",
   "execution_count": 16,
   "id": "a9310f5f-cd01-4dca-87dc-2111c217da6d",
   "metadata": {},
   "outputs": [
    {
     "name": "stderr",
     "output_type": "stream",
     "text": [
      "/data2/home/rohitsunil/.local/lib/python3.10/site-packages/keras/src/layers/core/embedding.py:90: UserWarning: Argument `input_length` is deprecated. Just remove it.\n",
      "  warnings.warn(\n",
      "2024-07-30 16:39:14.916449: W tensorflow/core/common_runtime/gpu/gpu_device.cc:2343] Cannot dlopen some GPU libraries. Please make sure the missing libraries mentioned above are installed properly if you would like to use GPU. Follow the guide at https://www.tensorflow.org/install/gpu for how to download and setup the required libraries for your platform.\n",
      "Skipping registering GPU devices...\n"
     ]
    }
   ],
   "source": [
    "# Adding Embedding layer\n",
    "embedding_layer = Embedding(vocabulary_all + 1, 300, weights=[embedding_matrix], input_length=max_length, trainable=False)\n",
    "\n",
    "# Creating LSTM Encoder\n",
    "lstm_layer = Bidirectional(LSTM(64, dropout=rate_drop_lstm, recurrent_dropout=rate_drop_lstm))\n",
    "\n",
    "# Creating LSTM Encoder layer for the First Sentence\n",
    "sequence_1_input = Input(shape=(max_length,), dtype='int32')\n",
    "embedded_sequences_1 = embedding_layer(sequence_1_input)\n",
    "x1 = lstm_layer(embedded_sequences_1)\n",
    "\n",
    "# Creating LSTM Encoder layer for the Second Sentence\n",
    "sequence_2_input = Input(shape=(max_length,), dtype='int32')\n",
    "embedded_sequences_2 = embedding_layer(sequence_2_input)\n",
    "x2 = lstm_layer(embedded_sequences_2)\n",
    "\n",
    "# Creating leaks input\n",
    "wordLength_input = Input(shape=(length_features_train.shape[1],))\n",
    "wordLength_dense = Dense(int(number_dense_units / 2), activation=activation_function)(wordLength_input)\n"
   ]
  },
  {
   "cell_type": "code",
   "execution_count": 17,
   "id": "8244fcde-61f3-41d5-8c66-2d57d8a8610e",
   "metadata": {},
   "outputs": [],
   "source": [
    "merged = concatenate([x1, x2, wordLength_dense])\n",
    "merged = BatchNormalization()(merged)\n",
    "merged = Dropout(rate_drop_dense)(merged)\n",
    "merged = Dense(number_dense_units, activation=activation_function)(merged)\n",
    "merged = BatchNormalization()(merged)\n",
    "merged = Dropout(rate_drop_dense)(merged)\n",
    "preds = Dense(2, activation='sigmoid')(merged)\n",
    "\n",
    "model = Model(inputs=[sequence_1_input, sequence_2_input, wordLength_input], outputs=preds)\n",
    "model.compile(loss='binary_crossentropy', optimizer='nadam', metrics=['acc'])"
   ]
  },
  {
   "cell_type": "code",
   "execution_count": 18,
   "id": "5d3c0a6a-954d-4cf7-b5ab-8251a0415646",
   "metadata": {},
   "outputs": [
    {
     "data": {
      "text/html": [
       "<pre style=\"white-space:pre;overflow-x:auto;line-height:normal;font-family:Menlo,'DejaVu Sans Mono',consolas,'Courier New',monospace\"><span style=\"font-weight: bold\">Model: \"functional\"</span>\n",
       "</pre>\n"
      ],
      "text/plain": [
       "\u001b[1mModel: \"functional\"\u001b[0m\n"
      ]
     },
     "metadata": {},
     "output_type": "display_data"
    },
    {
     "data": {
      "text/html": [
       "<pre style=\"white-space:pre;overflow-x:auto;line-height:normal;font-family:Menlo,'DejaVu Sans Mono',consolas,'Courier New',monospace\">┏━━━━━━━━━━━━━━━━━━━━━┳━━━━━━━━━━━━━━━━━━━┳━━━━━━━━━━━━┳━━━━━━━━━━━━━━━━━━━┓\n",
       "┃<span style=\"font-weight: bold\"> Layer (type)        </span>┃<span style=\"font-weight: bold\"> Output Shape      </span>┃<span style=\"font-weight: bold\">    Param # </span>┃<span style=\"font-weight: bold\"> Connected to      </span>┃\n",
       "┡━━━━━━━━━━━━━━━━━━━━━╇━━━━━━━━━━━━━━━━━━━╇━━━━━━━━━━━━╇━━━━━━━━━━━━━━━━━━━┩\n",
       "│ input_layer         │ (<span style=\"color: #00d7ff; text-decoration-color: #00d7ff\">None</span>, <span style=\"color: #00af00; text-decoration-color: #00af00\">100</span>)       │          <span style=\"color: #00af00; text-decoration-color: #00af00\">0</span> │ -                 │\n",
       "│ (<span style=\"color: #0087ff; text-decoration-color: #0087ff\">InputLayer</span>)        │                   │            │                   │\n",
       "├─────────────────────┼───────────────────┼────────────┼───────────────────┤\n",
       "│ input_layer_1       │ (<span style=\"color: #00d7ff; text-decoration-color: #00d7ff\">None</span>, <span style=\"color: #00af00; text-decoration-color: #00af00\">100</span>)       │          <span style=\"color: #00af00; text-decoration-color: #00af00\">0</span> │ -                 │\n",
       "│ (<span style=\"color: #0087ff; text-decoration-color: #0087ff\">InputLayer</span>)        │                   │            │                   │\n",
       "├─────────────────────┼───────────────────┼────────────┼───────────────────┤\n",
       "│ embedding           │ (<span style=\"color: #00d7ff; text-decoration-color: #00d7ff\">None</span>, <span style=\"color: #00af00; text-decoration-color: #00af00\">100</span>, <span style=\"color: #00af00; text-decoration-color: #00af00\">300</span>)  │ <span style=\"color: #00af00; text-decoration-color: #00af00\">26,995,200</span> │ input_layer[<span style=\"color: #00af00; text-decoration-color: #00af00\">0</span>][<span style=\"color: #00af00; text-decoration-color: #00af00\">0</span>… │\n",
       "│ (<span style=\"color: #0087ff; text-decoration-color: #0087ff\">Embedding</span>)         │                   │            │ input_layer_1[<span style=\"color: #00af00; text-decoration-color: #00af00\">0</span>]… │\n",
       "├─────────────────────┼───────────────────┼────────────┼───────────────────┤\n",
       "│ input_layer_2       │ (<span style=\"color: #00d7ff; text-decoration-color: #00d7ff\">None</span>, <span style=\"color: #00af00; text-decoration-color: #00af00\">3</span>)         │          <span style=\"color: #00af00; text-decoration-color: #00af00\">0</span> │ -                 │\n",
       "│ (<span style=\"color: #0087ff; text-decoration-color: #0087ff\">InputLayer</span>)        │                   │            │                   │\n",
       "├─────────────────────┼───────────────────┼────────────┼───────────────────┤\n",
       "│ bidirectional       │ (<span style=\"color: #00d7ff; text-decoration-color: #00d7ff\">None</span>, <span style=\"color: #00af00; text-decoration-color: #00af00\">128</span>)       │    <span style=\"color: #00af00; text-decoration-color: #00af00\">186,880</span> │ embedding[<span style=\"color: #00af00; text-decoration-color: #00af00\">0</span>][<span style=\"color: #00af00; text-decoration-color: #00af00\">0</span>],  │\n",
       "│ (<span style=\"color: #0087ff; text-decoration-color: #0087ff\">Bidirectional</span>)     │                   │            │ embedding[<span style=\"color: #00af00; text-decoration-color: #00af00\">1</span>][<span style=\"color: #00af00; text-decoration-color: #00af00\">0</span>]   │\n",
       "├─────────────────────┼───────────────────┼────────────┼───────────────────┤\n",
       "│ dense (<span style=\"color: #0087ff; text-decoration-color: #0087ff\">Dense</span>)       │ (<span style=\"color: #00d7ff; text-decoration-color: #00d7ff\">None</span>, <span style=\"color: #00af00; text-decoration-color: #00af00\">32</span>)        │        <span style=\"color: #00af00; text-decoration-color: #00af00\">128</span> │ input_layer_2[<span style=\"color: #00af00; text-decoration-color: #00af00\">0</span>]… │\n",
       "├─────────────────────┼───────────────────┼────────────┼───────────────────┤\n",
       "│ concatenate         │ (<span style=\"color: #00d7ff; text-decoration-color: #00d7ff\">None</span>, <span style=\"color: #00af00; text-decoration-color: #00af00\">288</span>)       │          <span style=\"color: #00af00; text-decoration-color: #00af00\">0</span> │ bidirectional[<span style=\"color: #00af00; text-decoration-color: #00af00\">0</span>]… │\n",
       "│ (<span style=\"color: #0087ff; text-decoration-color: #0087ff\">Concatenate</span>)       │                   │            │ bidirectional[<span style=\"color: #00af00; text-decoration-color: #00af00\">1</span>]… │\n",
       "│                     │                   │            │ dense[<span style=\"color: #00af00; text-decoration-color: #00af00\">0</span>][<span style=\"color: #00af00; text-decoration-color: #00af00\">0</span>]       │\n",
       "├─────────────────────┼───────────────────┼────────────┼───────────────────┤\n",
       "│ batch_normalization │ (<span style=\"color: #00d7ff; text-decoration-color: #00d7ff\">None</span>, <span style=\"color: #00af00; text-decoration-color: #00af00\">288</span>)       │      <span style=\"color: #00af00; text-decoration-color: #00af00\">1,152</span> │ concatenate[<span style=\"color: #00af00; text-decoration-color: #00af00\">0</span>][<span style=\"color: #00af00; text-decoration-color: #00af00\">0</span>] │\n",
       "│ (<span style=\"color: #0087ff; text-decoration-color: #0087ff\">BatchNormalizatio…</span> │                   │            │                   │\n",
       "├─────────────────────┼───────────────────┼────────────┼───────────────────┤\n",
       "│ dropout (<span style=\"color: #0087ff; text-decoration-color: #0087ff\">Dropout</span>)   │ (<span style=\"color: #00d7ff; text-decoration-color: #00d7ff\">None</span>, <span style=\"color: #00af00; text-decoration-color: #00af00\">288</span>)       │          <span style=\"color: #00af00; text-decoration-color: #00af00\">0</span> │ batch_normalizat… │\n",
       "├─────────────────────┼───────────────────┼────────────┼───────────────────┤\n",
       "│ dense_1 (<span style=\"color: #0087ff; text-decoration-color: #0087ff\">Dense</span>)     │ (<span style=\"color: #00d7ff; text-decoration-color: #00d7ff\">None</span>, <span style=\"color: #00af00; text-decoration-color: #00af00\">64</span>)        │     <span style=\"color: #00af00; text-decoration-color: #00af00\">18,496</span> │ dropout[<span style=\"color: #00af00; text-decoration-color: #00af00\">0</span>][<span style=\"color: #00af00; text-decoration-color: #00af00\">0</span>]     │\n",
       "├─────────────────────┼───────────────────┼────────────┼───────────────────┤\n",
       "│ batch_normalizatio… │ (<span style=\"color: #00d7ff; text-decoration-color: #00d7ff\">None</span>, <span style=\"color: #00af00; text-decoration-color: #00af00\">64</span>)        │        <span style=\"color: #00af00; text-decoration-color: #00af00\">256</span> │ dense_1[<span style=\"color: #00af00; text-decoration-color: #00af00\">0</span>][<span style=\"color: #00af00; text-decoration-color: #00af00\">0</span>]     │\n",
       "│ (<span style=\"color: #0087ff; text-decoration-color: #0087ff\">BatchNormalizatio…</span> │                   │            │                   │\n",
       "├─────────────────────┼───────────────────┼────────────┼───────────────────┤\n",
       "│ dropout_1 (<span style=\"color: #0087ff; text-decoration-color: #0087ff\">Dropout</span>) │ (<span style=\"color: #00d7ff; text-decoration-color: #00d7ff\">None</span>, <span style=\"color: #00af00; text-decoration-color: #00af00\">64</span>)        │          <span style=\"color: #00af00; text-decoration-color: #00af00\">0</span> │ batch_normalizat… │\n",
       "├─────────────────────┼───────────────────┼────────────┼───────────────────┤\n",
       "│ dense_2 (<span style=\"color: #0087ff; text-decoration-color: #0087ff\">Dense</span>)     │ (<span style=\"color: #00d7ff; text-decoration-color: #00d7ff\">None</span>, <span style=\"color: #00af00; text-decoration-color: #00af00\">2</span>)         │        <span style=\"color: #00af00; text-decoration-color: #00af00\">130</span> │ dropout_1[<span style=\"color: #00af00; text-decoration-color: #00af00\">0</span>][<span style=\"color: #00af00; text-decoration-color: #00af00\">0</span>]   │\n",
       "└─────────────────────┴───────────────────┴────────────┴───────────────────┘\n",
       "</pre>\n"
      ],
      "text/plain": [
       "┏━━━━━━━━━━━━━━━━━━━━━┳━━━━━━━━━━━━━━━━━━━┳━━━━━━━━━━━━┳━━━━━━━━━━━━━━━━━━━┓\n",
       "┃\u001b[1m \u001b[0m\u001b[1mLayer (type)       \u001b[0m\u001b[1m \u001b[0m┃\u001b[1m \u001b[0m\u001b[1mOutput Shape     \u001b[0m\u001b[1m \u001b[0m┃\u001b[1m \u001b[0m\u001b[1m   Param #\u001b[0m\u001b[1m \u001b[0m┃\u001b[1m \u001b[0m\u001b[1mConnected to     \u001b[0m\u001b[1m \u001b[0m┃\n",
       "┡━━━━━━━━━━━━━━━━━━━━━╇━━━━━━━━━━━━━━━━━━━╇━━━━━━━━━━━━╇━━━━━━━━━━━━━━━━━━━┩\n",
       "│ input_layer         │ (\u001b[38;5;45mNone\u001b[0m, \u001b[38;5;34m100\u001b[0m)       │          \u001b[38;5;34m0\u001b[0m │ -                 │\n",
       "│ (\u001b[38;5;33mInputLayer\u001b[0m)        │                   │            │                   │\n",
       "├─────────────────────┼───────────────────┼────────────┼───────────────────┤\n",
       "│ input_layer_1       │ (\u001b[38;5;45mNone\u001b[0m, \u001b[38;5;34m100\u001b[0m)       │          \u001b[38;5;34m0\u001b[0m │ -                 │\n",
       "│ (\u001b[38;5;33mInputLayer\u001b[0m)        │                   │            │                   │\n",
       "├─────────────────────┼───────────────────┼────────────┼───────────────────┤\n",
       "│ embedding           │ (\u001b[38;5;45mNone\u001b[0m, \u001b[38;5;34m100\u001b[0m, \u001b[38;5;34m300\u001b[0m)  │ \u001b[38;5;34m26,995,200\u001b[0m │ input_layer[\u001b[38;5;34m0\u001b[0m][\u001b[38;5;34m0\u001b[0m… │\n",
       "│ (\u001b[38;5;33mEmbedding\u001b[0m)         │                   │            │ input_layer_1[\u001b[38;5;34m0\u001b[0m]… │\n",
       "├─────────────────────┼───────────────────┼────────────┼───────────────────┤\n",
       "│ input_layer_2       │ (\u001b[38;5;45mNone\u001b[0m, \u001b[38;5;34m3\u001b[0m)         │          \u001b[38;5;34m0\u001b[0m │ -                 │\n",
       "│ (\u001b[38;5;33mInputLayer\u001b[0m)        │                   │            │                   │\n",
       "├─────────────────────┼───────────────────┼────────────┼───────────────────┤\n",
       "│ bidirectional       │ (\u001b[38;5;45mNone\u001b[0m, \u001b[38;5;34m128\u001b[0m)       │    \u001b[38;5;34m186,880\u001b[0m │ embedding[\u001b[38;5;34m0\u001b[0m][\u001b[38;5;34m0\u001b[0m],  │\n",
       "│ (\u001b[38;5;33mBidirectional\u001b[0m)     │                   │            │ embedding[\u001b[38;5;34m1\u001b[0m][\u001b[38;5;34m0\u001b[0m]   │\n",
       "├─────────────────────┼───────────────────┼────────────┼───────────────────┤\n",
       "│ dense (\u001b[38;5;33mDense\u001b[0m)       │ (\u001b[38;5;45mNone\u001b[0m, \u001b[38;5;34m32\u001b[0m)        │        \u001b[38;5;34m128\u001b[0m │ input_layer_2[\u001b[38;5;34m0\u001b[0m]… │\n",
       "├─────────────────────┼───────────────────┼────────────┼───────────────────┤\n",
       "│ concatenate         │ (\u001b[38;5;45mNone\u001b[0m, \u001b[38;5;34m288\u001b[0m)       │          \u001b[38;5;34m0\u001b[0m │ bidirectional[\u001b[38;5;34m0\u001b[0m]… │\n",
       "│ (\u001b[38;5;33mConcatenate\u001b[0m)       │                   │            │ bidirectional[\u001b[38;5;34m1\u001b[0m]… │\n",
       "│                     │                   │            │ dense[\u001b[38;5;34m0\u001b[0m][\u001b[38;5;34m0\u001b[0m]       │\n",
       "├─────────────────────┼───────────────────┼────────────┼───────────────────┤\n",
       "│ batch_normalization │ (\u001b[38;5;45mNone\u001b[0m, \u001b[38;5;34m288\u001b[0m)       │      \u001b[38;5;34m1,152\u001b[0m │ concatenate[\u001b[38;5;34m0\u001b[0m][\u001b[38;5;34m0\u001b[0m] │\n",
       "│ (\u001b[38;5;33mBatchNormalizatio…\u001b[0m │                   │            │                   │\n",
       "├─────────────────────┼───────────────────┼────────────┼───────────────────┤\n",
       "│ dropout (\u001b[38;5;33mDropout\u001b[0m)   │ (\u001b[38;5;45mNone\u001b[0m, \u001b[38;5;34m288\u001b[0m)       │          \u001b[38;5;34m0\u001b[0m │ batch_normalizat… │\n",
       "├─────────────────────┼───────────────────┼────────────┼───────────────────┤\n",
       "│ dense_1 (\u001b[38;5;33mDense\u001b[0m)     │ (\u001b[38;5;45mNone\u001b[0m, \u001b[38;5;34m64\u001b[0m)        │     \u001b[38;5;34m18,496\u001b[0m │ dropout[\u001b[38;5;34m0\u001b[0m][\u001b[38;5;34m0\u001b[0m]     │\n",
       "├─────────────────────┼───────────────────┼────────────┼───────────────────┤\n",
       "│ batch_normalizatio… │ (\u001b[38;5;45mNone\u001b[0m, \u001b[38;5;34m64\u001b[0m)        │        \u001b[38;5;34m256\u001b[0m │ dense_1[\u001b[38;5;34m0\u001b[0m][\u001b[38;5;34m0\u001b[0m]     │\n",
       "│ (\u001b[38;5;33mBatchNormalizatio…\u001b[0m │                   │            │                   │\n",
       "├─────────────────────┼───────────────────┼────────────┼───────────────────┤\n",
       "│ dropout_1 (\u001b[38;5;33mDropout\u001b[0m) │ (\u001b[38;5;45mNone\u001b[0m, \u001b[38;5;34m64\u001b[0m)        │          \u001b[38;5;34m0\u001b[0m │ batch_normalizat… │\n",
       "├─────────────────────┼───────────────────┼────────────┼───────────────────┤\n",
       "│ dense_2 (\u001b[38;5;33mDense\u001b[0m)     │ (\u001b[38;5;45mNone\u001b[0m, \u001b[38;5;34m2\u001b[0m)         │        \u001b[38;5;34m130\u001b[0m │ dropout_1[\u001b[38;5;34m0\u001b[0m][\u001b[38;5;34m0\u001b[0m]   │\n",
       "└─────────────────────┴───────────────────┴────────────┴───────────────────┘\n"
      ]
     },
     "metadata": {},
     "output_type": "display_data"
    },
    {
     "data": {
      "text/html": [
       "<pre style=\"white-space:pre;overflow-x:auto;line-height:normal;font-family:Menlo,'DejaVu Sans Mono',consolas,'Courier New',monospace\"><span style=\"font-weight: bold\"> Total params: </span><span style=\"color: #00af00; text-decoration-color: #00af00\">27,202,242</span> (103.77 MB)\n",
       "</pre>\n"
      ],
      "text/plain": [
       "\u001b[1m Total params: \u001b[0m\u001b[38;5;34m27,202,242\u001b[0m (103.77 MB)\n"
      ]
     },
     "metadata": {},
     "output_type": "display_data"
    },
    {
     "data": {
      "text/html": [
       "<pre style=\"white-space:pre;overflow-x:auto;line-height:normal;font-family:Menlo,'DejaVu Sans Mono',consolas,'Courier New',monospace\"><span style=\"font-weight: bold\"> Trainable params: </span><span style=\"color: #00af00; text-decoration-color: #00af00\">206,338</span> (806.01 KB)\n",
       "</pre>\n"
      ],
      "text/plain": [
       "\u001b[1m Trainable params: \u001b[0m\u001b[38;5;34m206,338\u001b[0m (806.01 KB)\n"
      ]
     },
     "metadata": {},
     "output_type": "display_data"
    },
    {
     "data": {
      "text/html": [
       "<pre style=\"white-space:pre;overflow-x:auto;line-height:normal;font-family:Menlo,'DejaVu Sans Mono',consolas,'Courier New',monospace\"><span style=\"font-weight: bold\"> Non-trainable params: </span><span style=\"color: #00af00; text-decoration-color: #00af00\">26,995,904</span> (102.98 MB)\n",
       "</pre>\n"
      ],
      "text/plain": [
       "\u001b[1m Non-trainable params: \u001b[0m\u001b[38;5;34m26,995,904\u001b[0m (102.98 MB)\n"
      ]
     },
     "metadata": {},
     "output_type": "display_data"
    }
   ],
   "source": [
    "model.summary()"
   ]
  },
  {
   "cell_type": "code",
   "execution_count": 19,
   "id": "9bb51b6d-fcdc-4527-a0fd-af6b5f24d11b",
   "metadata": {},
   "outputs": [],
   "source": [
    "# Import necessary callbacks from Keras\n",
    "from tensorflow.keras.callbacks import EarlyStopping, ReduceLROnPlateau, ModelCheckpoint\n",
    "\n",
    "# Initialize EarlyStopping callback to stop training when validation loss does not improve\n",
    "earlystopper = EarlyStopping(patience=8, verbose=1)\n",
    "\n",
    "# Initialize ModelCheckpoint callback to save the model's weights during training\n",
    "# It saves the model with the lowest validation loss\n",
    "checkpointer = ModelCheckpoint(\n",
    "    filepath='lstm_model_three_.{epoch:02d}-{val_loss:.6f}.weights.h5', \n",
    "    verbose=1, \n",
    "    save_best_only=True, \n",
    "    save_weights_only=True\n",
    ")\n",
    "\n",
    "# Initialize ReduceLROnPlateau callback to reduce the learning rate when validation loss plateaus\n",
    "reduce_lr = ReduceLROnPlateau(\n",
    "    monitor='val_loss', \n",
    "    factor=0.9, \n",
    "    patience=2, \n",
    "    min_lr=0.0001, \n",
    "    verbose=1\n",
    ")\n"
   ]
  },
  {
   "cell_type": "code",
   "execution_count": 20,
   "id": "b68fd6d9-5854-489b-a997-9911c7ed04c7",
   "metadata": {},
   "outputs": [
    {
     "name": "stdout",
     "output_type": "stream",
     "text": [
      "Epoch 1/75\n",
      "\u001b[1m277/277\u001b[0m \u001b[32m━━━━━━━━━━━━━━━━━━━━\u001b[0m\u001b[37m\u001b[0m \u001b[1m0s\u001b[0m 514ms/step - acc: 0.6592 - loss: 0.6370\n",
      "Epoch 1: val_loss improved from inf to 0.48029, saving model to lstm_model_three_.01-0.480289.weights.h5\n",
      "\u001b[1m277/277\u001b[0m \u001b[32m━━━━━━━━━━━━━━━━━━━━\u001b[0m\u001b[37m\u001b[0m \u001b[1m178s\u001b[0m 625ms/step - acc: 0.6594 - loss: 0.6367 - val_acc: 0.7525 - val_loss: 0.4803 - learning_rate: 0.0010\n",
      "Epoch 2/75\n",
      "\u001b[1m277/277\u001b[0m \u001b[32m━━━━━━━━━━━━━━━━━━━━\u001b[0m\u001b[37m\u001b[0m \u001b[1m0s\u001b[0m 520ms/step - acc: 0.7503 - loss: 0.4784\n",
      "Epoch 2: val_loss improved from 0.48029 to 0.45092, saving model to lstm_model_three_.02-0.450916.weights.h5\n",
      "\u001b[1m277/277\u001b[0m \u001b[32m━━━━━━━━━━━━━━━━━━━━\u001b[0m\u001b[37m\u001b[0m \u001b[1m174s\u001b[0m 630ms/step - acc: 0.7503 - loss: 0.4784 - val_acc: 0.7666 - val_loss: 0.4509 - learning_rate: 0.0010\n",
      "Epoch 3/75\n",
      "\u001b[1m277/277\u001b[0m \u001b[32m━━━━━━━━━━━━━━━━━━━━\u001b[0m\u001b[37m\u001b[0m \u001b[1m0s\u001b[0m 522ms/step - acc: 0.7660 - loss: 0.4531\n",
      "Epoch 3: val_loss improved from 0.45092 to 0.43178, saving model to lstm_model_three_.03-0.431780.weights.h5\n",
      "\u001b[1m277/277\u001b[0m \u001b[32m━━━━━━━━━━━━━━━━━━━━\u001b[0m\u001b[37m\u001b[0m \u001b[1m175s\u001b[0m 632ms/step - acc: 0.7660 - loss: 0.4531 - val_acc: 0.7794 - val_loss: 0.4318 - learning_rate: 0.0010\n",
      "Epoch 4/75\n",
      "\u001b[1m277/277\u001b[0m \u001b[32m━━━━━━━━━━━━━━━━━━━━\u001b[0m\u001b[37m\u001b[0m \u001b[1m0s\u001b[0m 518ms/step - acc: 0.7761 - loss: 0.4367\n",
      "Epoch 4: val_loss improved from 0.43178 to 0.42140, saving model to lstm_model_three_.04-0.421400.weights.h5\n",
      "\u001b[1m277/277\u001b[0m \u001b[32m━━━━━━━━━━━━━━━━━━━━\u001b[0m\u001b[37m\u001b[0m \u001b[1m174s\u001b[0m 628ms/step - acc: 0.7761 - loss: 0.4367 - val_acc: 0.7868 - val_loss: 0.4214 - learning_rate: 0.0010\n",
      "Epoch 5/75\n",
      "\u001b[1m277/277\u001b[0m \u001b[32m━━━━━━━━━━━━━━━━━━━━\u001b[0m\u001b[37m\u001b[0m \u001b[1m0s\u001b[0m 521ms/step - acc: 0.7837 - loss: 0.4274\n",
      "Epoch 5: val_loss improved from 0.42140 to 0.41667, saving model to lstm_model_three_.05-0.416668.weights.h5\n",
      "\u001b[1m277/277\u001b[0m \u001b[32m━━━━━━━━━━━━━━━━━━━━\u001b[0m\u001b[37m\u001b[0m \u001b[1m175s\u001b[0m 631ms/step - acc: 0.7837 - loss: 0.4274 - val_acc: 0.7903 - val_loss: 0.4167 - learning_rate: 0.0010\n",
      "Epoch 6/75\n",
      "\u001b[1m277/277\u001b[0m \u001b[32m━━━━━━━━━━━━━━━━━━━━\u001b[0m\u001b[37m\u001b[0m \u001b[1m0s\u001b[0m 518ms/step - acc: 0.7909 - loss: 0.4170\n",
      "Epoch 6: val_loss improved from 0.41667 to 0.40704, saving model to lstm_model_three_.06-0.407035.weights.h5\n",
      "\u001b[1m277/277\u001b[0m \u001b[32m━━━━━━━━━━━━━━━━━━━━\u001b[0m\u001b[37m\u001b[0m \u001b[1m174s\u001b[0m 627ms/step - acc: 0.7909 - loss: 0.4170 - val_acc: 0.7974 - val_loss: 0.4070 - learning_rate: 0.0010\n",
      "Epoch 7/75\n",
      "\u001b[1m277/277\u001b[0m \u001b[32m━━━━━━━━━━━━━━━━━━━━\u001b[0m\u001b[37m\u001b[0m \u001b[1m0s\u001b[0m 517ms/step - acc: 0.7942 - loss: 0.4105\n",
      "Epoch 7: val_loss improved from 0.40704 to 0.40268, saving model to lstm_model_three_.07-0.402679.weights.h5\n",
      "\u001b[1m277/277\u001b[0m \u001b[32m━━━━━━━━━━━━━━━━━━━━\u001b[0m\u001b[37m\u001b[0m \u001b[1m174s\u001b[0m 627ms/step - acc: 0.7942 - loss: 0.4105 - val_acc: 0.8013 - val_loss: 0.4027 - learning_rate: 0.0010\n",
      "Epoch 8/75\n",
      "\u001b[1m277/277\u001b[0m \u001b[32m━━━━━━━━━━━━━━━━━━━━\u001b[0m\u001b[37m\u001b[0m \u001b[1m0s\u001b[0m 521ms/step - acc: 0.7997 - loss: 0.4050\n",
      "Epoch 8: val_loss improved from 0.40268 to 0.40041, saving model to lstm_model_three_.08-0.400412.weights.h5\n",
      "\u001b[1m277/277\u001b[0m \u001b[32m━━━━━━━━━━━━━━━━━━━━\u001b[0m\u001b[37m\u001b[0m \u001b[1m174s\u001b[0m 629ms/step - acc: 0.7997 - loss: 0.4050 - val_acc: 0.8022 - val_loss: 0.4004 - learning_rate: 0.0010\n",
      "Epoch 9/75\n",
      "\u001b[1m277/277\u001b[0m \u001b[32m━━━━━━━━━━━━━━━━━━━━\u001b[0m\u001b[37m\u001b[0m \u001b[1m0s\u001b[0m 520ms/step - acc: 0.8011 - loss: 0.4001\n",
      "Epoch 9: val_loss improved from 0.40041 to 0.39638, saving model to lstm_model_three_.09-0.396384.weights.h5\n",
      "\u001b[1m277/277\u001b[0m \u001b[32m━━━━━━━━━━━━━━━━━━━━\u001b[0m\u001b[37m\u001b[0m \u001b[1m175s\u001b[0m 630ms/step - acc: 0.8011 - loss: 0.4001 - val_acc: 0.8053 - val_loss: 0.3964 - learning_rate: 0.0010\n",
      "Epoch 10/75\n",
      "\u001b[1m277/277\u001b[0m \u001b[32m━━━━━━━━━━━━━━━━━━━━\u001b[0m\u001b[37m\u001b[0m \u001b[1m0s\u001b[0m 520ms/step - acc: 0.8051 - loss: 0.3956\n",
      "Epoch 10: val_loss improved from 0.39638 to 0.39064, saving model to lstm_model_three_.10-0.390638.weights.h5\n",
      "\u001b[1m277/277\u001b[0m \u001b[32m━━━━━━━━━━━━━━━━━━━━\u001b[0m\u001b[37m\u001b[0m \u001b[1m175s\u001b[0m 631ms/step - acc: 0.8051 - loss: 0.3956 - val_acc: 0.8091 - val_loss: 0.3906 - learning_rate: 0.0010\n",
      "Epoch 11/75\n",
      "\u001b[1m277/277\u001b[0m \u001b[32m━━━━━━━━━━━━━━━━━━━━\u001b[0m\u001b[37m\u001b[0m \u001b[1m0s\u001b[0m 521ms/step - acc: 0.8079 - loss: 0.3901\n",
      "Epoch 11: val_loss improved from 0.39064 to 0.38796, saving model to lstm_model_three_.11-0.387963.weights.h5\n",
      "\u001b[1m277/277\u001b[0m \u001b[32m━━━━━━━━━━━━━━━━━━━━\u001b[0m\u001b[37m\u001b[0m \u001b[1m175s\u001b[0m 631ms/step - acc: 0.8079 - loss: 0.3901 - val_acc: 0.8113 - val_loss: 0.3880 - learning_rate: 0.0010\n",
      "Epoch 12/75\n",
      "\u001b[1m277/277\u001b[0m \u001b[32m━━━━━━━━━━━━━━━━━━━━\u001b[0m\u001b[37m\u001b[0m \u001b[1m0s\u001b[0m 517ms/step - acc: 0.8121 - loss: 0.3863\n",
      "Epoch 12: val_loss improved from 0.38796 to 0.38599, saving model to lstm_model_three_.12-0.385992.weights.h5\n",
      "\u001b[1m277/277\u001b[0m \u001b[32m━━━━━━━━━━━━━━━━━━━━\u001b[0m\u001b[37m\u001b[0m \u001b[1m173s\u001b[0m 626ms/step - acc: 0.8121 - loss: 0.3863 - val_acc: 0.8115 - val_loss: 0.3860 - learning_rate: 0.0010\n",
      "Epoch 13/75\n",
      "\u001b[1m277/277\u001b[0m \u001b[32m━━━━━━━━━━━━━━━━━━━━\u001b[0m\u001b[37m\u001b[0m \u001b[1m0s\u001b[0m 521ms/step - acc: 0.8137 - loss: 0.3838\n",
      "Epoch 13: val_loss did not improve from 0.38599\n",
      "\u001b[1m277/277\u001b[0m \u001b[32m━━━━━━━━━━━━━━━━━━━━\u001b[0m\u001b[37m\u001b[0m \u001b[1m174s\u001b[0m 630ms/step - acc: 0.8137 - loss: 0.3838 - val_acc: 0.8104 - val_loss: 0.3886 - learning_rate: 0.0010\n",
      "Epoch 14/75\n",
      "\u001b[1m277/277\u001b[0m \u001b[32m━━━━━━━━━━━━━━━━━━━━\u001b[0m\u001b[37m\u001b[0m \u001b[1m0s\u001b[0m 520ms/step - acc: 0.8169 - loss: 0.3781\n",
      "Epoch 14: val_loss improved from 0.38599 to 0.38366, saving model to lstm_model_three_.14-0.383662.weights.h5\n",
      "\u001b[1m277/277\u001b[0m \u001b[32m━━━━━━━━━━━━━━━━━━━━\u001b[0m\u001b[37m\u001b[0m \u001b[1m174s\u001b[0m 630ms/step - acc: 0.8169 - loss: 0.3781 - val_acc: 0.8145 - val_loss: 0.3837 - learning_rate: 0.0010\n",
      "Epoch 15/75\n",
      "\u001b[1m277/277\u001b[0m \u001b[32m━━━━━━━━━━━━━━━━━━━━\u001b[0m\u001b[37m\u001b[0m \u001b[1m0s\u001b[0m 519ms/step - acc: 0.8191 - loss: 0.3754\n",
      "Epoch 15: val_loss improved from 0.38366 to 0.37941, saving model to lstm_model_three_.15-0.379408.weights.h5\n",
      "\u001b[1m277/277\u001b[0m \u001b[32m━━━━━━━━━━━━━━━━━━━━\u001b[0m\u001b[37m\u001b[0m \u001b[1m174s\u001b[0m 629ms/step - acc: 0.8191 - loss: 0.3754 - val_acc: 0.8170 - val_loss: 0.3794 - learning_rate: 0.0010\n",
      "Epoch 16/75\n",
      "\u001b[1m277/277\u001b[0m \u001b[32m━━━━━━━━━━━━━━━━━━━━\u001b[0m\u001b[37m\u001b[0m \u001b[1m0s\u001b[0m 521ms/step - acc: 0.8201 - loss: 0.3726\n",
      "Epoch 16: val_loss improved from 0.37941 to 0.37769, saving model to lstm_model_three_.16-0.377685.weights.h5\n",
      "\u001b[1m277/277\u001b[0m \u001b[32m━━━━━━━━━━━━━━━━━━━━\u001b[0m\u001b[37m\u001b[0m \u001b[1m175s\u001b[0m 631ms/step - acc: 0.8201 - loss: 0.3726 - val_acc: 0.8186 - val_loss: 0.3777 - learning_rate: 0.0010\n",
      "Epoch 17/75\n",
      "\u001b[1m277/277\u001b[0m \u001b[32m━━━━━━━━━━━━━━━━━━━━\u001b[0m\u001b[37m\u001b[0m \u001b[1m0s\u001b[0m 517ms/step - acc: 0.8216 - loss: 0.3698\n",
      "Epoch 17: val_loss did not improve from 0.37769\n",
      "\u001b[1m277/277\u001b[0m \u001b[32m━━━━━━━━━━━━━━━━━━━━\u001b[0m\u001b[37m\u001b[0m \u001b[1m173s\u001b[0m 625ms/step - acc: 0.8216 - loss: 0.3698 - val_acc: 0.8185 - val_loss: 0.3779 - learning_rate: 0.0010\n",
      "Epoch 18/75\n",
      "\u001b[1m277/277\u001b[0m \u001b[32m━━━━━━━━━━━━━━━━━━━━\u001b[0m\u001b[37m\u001b[0m \u001b[1m0s\u001b[0m 517ms/step - acc: 0.8238 - loss: 0.3657\n",
      "Epoch 18: val_loss improved from 0.37769 to 0.37721, saving model to lstm_model_three_.18-0.377214.weights.h5\n",
      "\u001b[1m277/277\u001b[0m \u001b[32m━━━━━━━━━━━━━━━━━━━━\u001b[0m\u001b[37m\u001b[0m \u001b[1m173s\u001b[0m 626ms/step - acc: 0.8238 - loss: 0.3657 - val_acc: 0.8173 - val_loss: 0.3772 - learning_rate: 0.0010\n",
      "Epoch 19/75\n",
      "\u001b[1m277/277\u001b[0m \u001b[32m━━━━━━━━━━━━━━━━━━━━\u001b[0m\u001b[37m\u001b[0m \u001b[1m0s\u001b[0m 521ms/step - acc: 0.8251 - loss: 0.3632\n",
      "Epoch 19: val_loss did not improve from 0.37721\n",
      "\u001b[1m277/277\u001b[0m \u001b[32m━━━━━━━━━━━━━━━━━━━━\u001b[0m\u001b[37m\u001b[0m \u001b[1m174s\u001b[0m 630ms/step - acc: 0.8251 - loss: 0.3632 - val_acc: 0.8176 - val_loss: 0.3774 - learning_rate: 0.0010\n",
      "Epoch 20/75\n",
      "\u001b[1m277/277\u001b[0m \u001b[32m━━━━━━━━━━━━━━━━━━━━\u001b[0m\u001b[37m\u001b[0m \u001b[1m0s\u001b[0m 521ms/step - acc: 0.8254 - loss: 0.3640\n",
      "Epoch 20: val_loss improved from 0.37721 to 0.37395, saving model to lstm_model_three_.20-0.373951.weights.h5\n",
      "\u001b[1m277/277\u001b[0m \u001b[32m━━━━━━━━━━━━━━━━━━━━\u001b[0m\u001b[37m\u001b[0m \u001b[1m175s\u001b[0m 631ms/step - acc: 0.8254 - loss: 0.3640 - val_acc: 0.8213 - val_loss: 0.3740 - learning_rate: 0.0010\n",
      "Epoch 21/75\n",
      "\u001b[1m277/277\u001b[0m \u001b[32m━━━━━━━━━━━━━━━━━━━━\u001b[0m\u001b[37m\u001b[0m \u001b[1m0s\u001b[0m 520ms/step - acc: 0.8265 - loss: 0.3613\n",
      "Epoch 21: val_loss improved from 0.37395 to 0.37186, saving model to lstm_model_three_.21-0.371857.weights.h5\n",
      "\u001b[1m277/277\u001b[0m \u001b[32m━━━━━━━━━━━━━━━━━━━━\u001b[0m\u001b[37m\u001b[0m \u001b[1m174s\u001b[0m 630ms/step - acc: 0.8265 - loss: 0.3613 - val_acc: 0.8220 - val_loss: 0.3719 - learning_rate: 0.0010\n",
      "Epoch 22/75\n",
      "\u001b[1m277/277\u001b[0m \u001b[32m━━━━━━━━━━━━━━━━━━━━\u001b[0m\u001b[37m\u001b[0m \u001b[1m0s\u001b[0m 517ms/step - acc: 0.8268 - loss: 0.3611\n",
      "Epoch 22: val_loss did not improve from 0.37186\n",
      "\u001b[1m277/277\u001b[0m \u001b[32m━━━━━━━━━━━━━━━━━━━━\u001b[0m\u001b[37m\u001b[0m \u001b[1m173s\u001b[0m 626ms/step - acc: 0.8268 - loss: 0.3611 - val_acc: 0.8196 - val_loss: 0.3760 - learning_rate: 0.0010\n",
      "Epoch 23/75\n",
      "\u001b[1m277/277\u001b[0m \u001b[32m━━━━━━━━━━━━━━━━━━━━\u001b[0m\u001b[37m\u001b[0m \u001b[1m0s\u001b[0m 517ms/step - acc: 0.8293 - loss: 0.3585\n",
      "Epoch 23: val_loss improved from 0.37186 to 0.36902, saving model to lstm_model_three_.23-0.369022.weights.h5\n",
      "\u001b[1m277/277\u001b[0m \u001b[32m━━━━━━━━━━━━━━━━━━━━\u001b[0m\u001b[37m\u001b[0m \u001b[1m173s\u001b[0m 625ms/step - acc: 0.8293 - loss: 0.3585 - val_acc: 0.8239 - val_loss: 0.3690 - learning_rate: 0.0010\n",
      "Epoch 24/75\n",
      "\u001b[1m277/277\u001b[0m \u001b[32m━━━━━━━━━━━━━━━━━━━━\u001b[0m\u001b[37m\u001b[0m \u001b[1m0s\u001b[0m 517ms/step - acc: 0.8318 - loss: 0.3527\n",
      "Epoch 24: val_loss did not improve from 0.36902\n",
      "\u001b[1m277/277\u001b[0m \u001b[32m━━━━━━━━━━━━━━━━━━━━\u001b[0m\u001b[37m\u001b[0m \u001b[1m173s\u001b[0m 626ms/step - acc: 0.8318 - loss: 0.3527 - val_acc: 0.8243 - val_loss: 0.3694 - learning_rate: 0.0010\n",
      "Epoch 25/75\n",
      "\u001b[1m277/277\u001b[0m \u001b[32m━━━━━━━━━━━━━━━━━━━━\u001b[0m\u001b[37m\u001b[0m \u001b[1m0s\u001b[0m 521ms/step - acc: 0.8313 - loss: 0.3552\n",
      "Epoch 25: val_loss did not improve from 0.36902\n",
      "\n",
      "Epoch 25: ReduceLROnPlateau reducing learning rate to 0.0009000000427477062.\n",
      "\u001b[1m277/277\u001b[0m \u001b[32m━━━━━━━━━━━━━━━━━━━━\u001b[0m\u001b[37m\u001b[0m \u001b[1m175s\u001b[0m 631ms/step - acc: 0.8313 - loss: 0.3552 - val_acc: 0.8228 - val_loss: 0.3717 - learning_rate: 0.0010\n",
      "Epoch 26/75\n",
      "\u001b[1m277/277\u001b[0m \u001b[32m━━━━━━━━━━━━━━━━━━━━\u001b[0m\u001b[37m\u001b[0m \u001b[1m0s\u001b[0m 517ms/step - acc: 0.8329 - loss: 0.3530\n",
      "Epoch 26: val_loss did not improve from 0.36902\n",
      "\u001b[1m277/277\u001b[0m \u001b[32m━━━━━━━━━━━━━━━━━━━━\u001b[0m\u001b[37m\u001b[0m \u001b[1m173s\u001b[0m 625ms/step - acc: 0.8329 - loss: 0.3530 - val_acc: 0.8226 - val_loss: 0.3703 - learning_rate: 9.0000e-04\n",
      "Epoch 27/75\n",
      "\u001b[1m277/277\u001b[0m \u001b[32m━━━━━━━━━━━━━━━━━━━━\u001b[0m\u001b[37m\u001b[0m \u001b[1m0s\u001b[0m 518ms/step - acc: 0.8343 - loss: 0.3495\n",
      "Epoch 27: val_loss did not improve from 0.36902\n",
      "\n",
      "Epoch 27: ReduceLROnPlateau reducing learning rate to 0.0008100000384729356.\n",
      "\u001b[1m277/277\u001b[0m \u001b[32m━━━━━━━━━━━━━━━━━━━━\u001b[0m\u001b[37m\u001b[0m \u001b[1m173s\u001b[0m 626ms/step - acc: 0.8343 - loss: 0.3495 - val_acc: 0.8245 - val_loss: 0.3698 - learning_rate: 9.0000e-04\n",
      "Epoch 28/75\n",
      "\u001b[1m277/277\u001b[0m \u001b[32m━━━━━━━━━━━━━━━━━━━━\u001b[0m\u001b[37m\u001b[0m \u001b[1m0s\u001b[0m 518ms/step - acc: 0.8345 - loss: 0.3492\n",
      "Epoch 28: val_loss improved from 0.36902 to 0.36650, saving model to lstm_model_three_.28-0.366500.weights.h5\n",
      "\u001b[1m277/277\u001b[0m \u001b[32m━━━━━━━━━━━━━━━━━━━━\u001b[0m\u001b[37m\u001b[0m \u001b[1m174s\u001b[0m 628ms/step - acc: 0.8345 - loss: 0.3492 - val_acc: 0.8260 - val_loss: 0.3665 - learning_rate: 8.1000e-04\n",
      "Epoch 29/75\n",
      "\u001b[1m277/277\u001b[0m \u001b[32m━━━━━━━━━━━━━━━━━━━━\u001b[0m\u001b[37m\u001b[0m \u001b[1m0s\u001b[0m 522ms/step - acc: 0.8355 - loss: 0.3479\n",
      "Epoch 29: val_loss did not improve from 0.36650\n",
      "\u001b[1m277/277\u001b[0m \u001b[32m━━━━━━━━━━━━━━━━━━━━\u001b[0m\u001b[37m\u001b[0m \u001b[1m175s\u001b[0m 632ms/step - acc: 0.8355 - loss: 0.3479 - val_acc: 0.8244 - val_loss: 0.3691 - learning_rate: 8.1000e-04\n",
      "Epoch 30/75\n",
      "\u001b[1m277/277\u001b[0m \u001b[32m━━━━━━━━━━━━━━━━━━━━\u001b[0m\u001b[37m\u001b[0m \u001b[1m0s\u001b[0m 522ms/step - acc: 0.8350 - loss: 0.3463\n",
      "Epoch 30: val_loss improved from 0.36650 to 0.36595, saving model to lstm_model_three_.30-0.365954.weights.h5\n",
      "\u001b[1m277/277\u001b[0m \u001b[32m━━━━━━━━━━━━━━━━━━━━\u001b[0m\u001b[37m\u001b[0m \u001b[1m175s\u001b[0m 632ms/step - acc: 0.8350 - loss: 0.3463 - val_acc: 0.8267 - val_loss: 0.3660 - learning_rate: 8.1000e-04\n",
      "Epoch 31/75\n",
      "\u001b[1m277/277\u001b[0m \u001b[32m━━━━━━━━━━━━━━━━━━━━\u001b[0m\u001b[37m\u001b[0m \u001b[1m0s\u001b[0m 522ms/step - acc: 0.8381 - loss: 0.3442\n",
      "Epoch 31: val_loss did not improve from 0.36595\n",
      "\u001b[1m277/277\u001b[0m \u001b[32m━━━━━━━━━━━━━━━━━━━━\u001b[0m\u001b[37m\u001b[0m \u001b[1m175s\u001b[0m 631ms/step - acc: 0.8381 - loss: 0.3442 - val_acc: 0.8216 - val_loss: 0.3715 - learning_rate: 8.1000e-04\n",
      "Epoch 32/75\n",
      "\u001b[1m277/277\u001b[0m \u001b[32m━━━━━━━━━━━━━━━━━━━━\u001b[0m\u001b[37m\u001b[0m \u001b[1m0s\u001b[0m 521ms/step - acc: 0.8374 - loss: 0.3442\n",
      "Epoch 32: val_loss did not improve from 0.36595\n",
      "\n",
      "Epoch 32: ReduceLROnPlateau reducing learning rate to 0.0007290000503417104.\n",
      "\u001b[1m277/277\u001b[0m \u001b[32m━━━━━━━━━━━━━━━━━━━━\u001b[0m\u001b[37m\u001b[0m \u001b[1m175s\u001b[0m 631ms/step - acc: 0.8374 - loss: 0.3442 - val_acc: 0.8236 - val_loss: 0.3701 - learning_rate: 8.1000e-04\n",
      "Epoch 33/75\n",
      "\u001b[1m277/277\u001b[0m \u001b[32m━━━━━━━━━━━━━━━━━━━━\u001b[0m\u001b[37m\u001b[0m \u001b[1m0s\u001b[0m 523ms/step - acc: 0.8381 - loss: 0.3423\n",
      "Epoch 33: val_loss did not improve from 0.36595\n",
      "\u001b[1m277/277\u001b[0m \u001b[32m━━━━━━━━━━━━━━━━━━━━\u001b[0m\u001b[37m\u001b[0m \u001b[1m175s\u001b[0m 631ms/step - acc: 0.8381 - loss: 0.3423 - val_acc: 0.8251 - val_loss: 0.3666 - learning_rate: 7.2900e-04\n",
      "Epoch 34/75\n",
      "\u001b[1m277/277\u001b[0m \u001b[32m━━━━━━━━━━━━━━━━━━━━\u001b[0m\u001b[37m\u001b[0m \u001b[1m0s\u001b[0m 519ms/step - acc: 0.8378 - loss: 0.3437\n",
      "Epoch 34: val_loss did not improve from 0.36595\n",
      "\n",
      "Epoch 34: ReduceLROnPlateau reducing learning rate to 0.0006561000715009868.\n",
      "\u001b[1m277/277\u001b[0m \u001b[32m━━━━━━━━━━━━━━━━━━━━\u001b[0m\u001b[37m\u001b[0m \u001b[1m174s\u001b[0m 628ms/step - acc: 0.8378 - loss: 0.3437 - val_acc: 0.8253 - val_loss: 0.3671 - learning_rate: 7.2900e-04\n",
      "Epoch 35/75\n",
      "\u001b[1m277/277\u001b[0m \u001b[32m━━━━━━━━━━━━━━━━━━━━\u001b[0m\u001b[37m\u001b[0m \u001b[1m0s\u001b[0m 522ms/step - acc: 0.8389 - loss: 0.3398\n",
      "Epoch 35: val_loss did not improve from 0.36595\n",
      "\u001b[1m277/277\u001b[0m \u001b[32m━━━━━━━━━━━━━━━━━━━━\u001b[0m\u001b[37m\u001b[0m \u001b[1m175s\u001b[0m 630ms/step - acc: 0.8389 - loss: 0.3398 - val_acc: 0.8260 - val_loss: 0.3661 - learning_rate: 6.5610e-04\n",
      "Epoch 36/75\n",
      "\u001b[1m277/277\u001b[0m \u001b[32m━━━━━━━━━━━━━━━━━━━━\u001b[0m\u001b[37m\u001b[0m \u001b[1m0s\u001b[0m 520ms/step - acc: 0.8402 - loss: 0.3391\n",
      "Epoch 36: val_loss did not improve from 0.36595\n",
      "\n",
      "Epoch 36: ReduceLROnPlateau reducing learning rate to 0.0005904900433961303.\n",
      "\u001b[1m277/277\u001b[0m \u001b[32m━━━━━━━━━━━━━━━━━━━━\u001b[0m\u001b[37m\u001b[0m \u001b[1m174s\u001b[0m 629ms/step - acc: 0.8402 - loss: 0.3391 - val_acc: 0.8235 - val_loss: 0.3706 - learning_rate: 6.5610e-04\n",
      "Epoch 37/75\n",
      "\u001b[1m277/277\u001b[0m \u001b[32m━━━━━━━━━━━━━━━━━━━━\u001b[0m\u001b[37m\u001b[0m \u001b[1m0s\u001b[0m 520ms/step - acc: 0.8403 - loss: 0.3383\n",
      "Epoch 37: val_loss improved from 0.36595 to 0.36440, saving model to lstm_model_three_.37-0.364399.weights.h5\n",
      "\u001b[1m277/277\u001b[0m \u001b[32m━━━━━━━━━━━━━━━━━━━━\u001b[0m\u001b[37m\u001b[0m \u001b[1m174s\u001b[0m 629ms/step - acc: 0.8403 - loss: 0.3383 - val_acc: 0.8269 - val_loss: 0.3644 - learning_rate: 5.9049e-04\n",
      "Epoch 38/75\n",
      "\u001b[1m277/277\u001b[0m \u001b[32m━━━━━━━━━━━━━━━━━━━━\u001b[0m\u001b[37m\u001b[0m \u001b[1m0s\u001b[0m 520ms/step - acc: 0.8417 - loss: 0.3361\n",
      "Epoch 38: val_loss improved from 0.36440 to 0.36390, saving model to lstm_model_three_.38-0.363898.weights.h5\n",
      "\u001b[1m277/277\u001b[0m \u001b[32m━━━━━━━━━━━━━━━━━━━━\u001b[0m\u001b[37m\u001b[0m \u001b[1m174s\u001b[0m 628ms/step - acc: 0.8417 - loss: 0.3361 - val_acc: 0.8268 - val_loss: 0.3639 - learning_rate: 5.9049e-04\n",
      "Epoch 39/75\n",
      "\u001b[1m277/277\u001b[0m \u001b[32m━━━━━━━━━━━━━━━━━━━━\u001b[0m\u001b[37m\u001b[0m \u001b[1m0s\u001b[0m 520ms/step - acc: 0.8408 - loss: 0.3370\n",
      "Epoch 39: val_loss did not improve from 0.36390\n",
      "\u001b[1m277/277\u001b[0m \u001b[32m━━━━━━━━━━━━━━━━━━━━\u001b[0m\u001b[37m\u001b[0m \u001b[1m174s\u001b[0m 630ms/step - acc: 0.8408 - loss: 0.3370 - val_acc: 0.8270 - val_loss: 0.3640 - learning_rate: 5.9049e-04\n",
      "Epoch 40/75\n",
      "\u001b[1m277/277\u001b[0m \u001b[32m━━━━━━━━━━━━━━━━━━━━\u001b[0m\u001b[37m\u001b[0m \u001b[1m0s\u001b[0m 516ms/step - acc: 0.8420 - loss: 0.3347\n",
      "Epoch 40: val_loss improved from 0.36390 to 0.36365, saving model to lstm_model_three_.40-0.363647.weights.h5\n",
      "\u001b[1m277/277\u001b[0m \u001b[32m━━━━━━━━━━━━━━━━━━━━\u001b[0m\u001b[37m\u001b[0m \u001b[1m173s\u001b[0m 625ms/step - acc: 0.8420 - loss: 0.3347 - val_acc: 0.8270 - val_loss: 0.3636 - learning_rate: 5.9049e-04\n",
      "Epoch 41/75\n",
      "\u001b[1m277/277\u001b[0m \u001b[32m━━━━━━━━━━━━━━━━━━━━\u001b[0m\u001b[37m\u001b[0m \u001b[1m0s\u001b[0m 521ms/step - acc: 0.8431 - loss: 0.3349\n",
      "Epoch 41: val_loss did not improve from 0.36365\n",
      "\u001b[1m277/277\u001b[0m \u001b[32m━━━━━━━━━━━━━━━━━━━━\u001b[0m\u001b[37m\u001b[0m \u001b[1m174s\u001b[0m 629ms/step - acc: 0.8431 - loss: 0.3349 - val_acc: 0.8262 - val_loss: 0.3658 - learning_rate: 5.9049e-04\n",
      "Epoch 42/75\n",
      "\u001b[1m277/277\u001b[0m \u001b[32m━━━━━━━━━━━━━━━━━━━━\u001b[0m\u001b[37m\u001b[0m \u001b[1m0s\u001b[0m 516ms/step - acc: 0.8416 - loss: 0.3355\n",
      "Epoch 42: val_loss did not improve from 0.36365\n",
      "\n",
      "Epoch 42: ReduceLROnPlateau reducing learning rate to 0.0005314410547725857.\n",
      "\u001b[1m277/277\u001b[0m \u001b[32m━━━━━━━━━━━━━━━━━━━━\u001b[0m\u001b[37m\u001b[0m \u001b[1m173s\u001b[0m 625ms/step - acc: 0.8416 - loss: 0.3355 - val_acc: 0.8258 - val_loss: 0.3656 - learning_rate: 5.9049e-04\n",
      "Epoch 43/75\n",
      "\u001b[1m277/277\u001b[0m \u001b[32m━━━━━━━━━━━━━━━━━━━━\u001b[0m\u001b[37m\u001b[0m \u001b[1m0s\u001b[0m 520ms/step - acc: 0.8446 - loss: 0.3331\n",
      "Epoch 43: val_loss did not improve from 0.36365\n",
      "\u001b[1m277/277\u001b[0m \u001b[32m━━━━━━━━━━━━━━━━━━━━\u001b[0m\u001b[37m\u001b[0m \u001b[1m174s\u001b[0m 629ms/step - acc: 0.8446 - loss: 0.3331 - val_acc: 0.8260 - val_loss: 0.3660 - learning_rate: 5.3144e-04\n",
      "Epoch 44/75\n",
      "\u001b[1m277/277\u001b[0m \u001b[32m━━━━━━━━━━━━━━━━━━━━\u001b[0m\u001b[37m\u001b[0m \u001b[1m0s\u001b[0m 521ms/step - acc: 0.8434 - loss: 0.3334\n",
      "Epoch 44: val_loss did not improve from 0.36365\n",
      "\n",
      "Epoch 44: ReduceLROnPlateau reducing learning rate to 0.00047829695977270604.\n",
      "\u001b[1m277/277\u001b[0m \u001b[32m━━━━━━━━━━━━━━━━━━━━\u001b[0m\u001b[37m\u001b[0m \u001b[1m174s\u001b[0m 628ms/step - acc: 0.8434 - loss: 0.3334 - val_acc: 0.8253 - val_loss: 0.3671 - learning_rate: 5.3144e-04\n",
      "Epoch 45/75\n",
      "\u001b[1m277/277\u001b[0m \u001b[32m━━━━━━━━━━━━━━━━━━━━\u001b[0m\u001b[37m\u001b[0m \u001b[1m0s\u001b[0m 521ms/step - acc: 0.8447 - loss: 0.3310\n",
      "Epoch 45: val_loss improved from 0.36365 to 0.36305, saving model to lstm_model_three_.45-0.363050.weights.h5\n",
      "\u001b[1m277/277\u001b[0m \u001b[32m━━━━━━━━━━━━━━━━━━━━\u001b[0m\u001b[37m\u001b[0m \u001b[1m175s\u001b[0m 631ms/step - acc: 0.8447 - loss: 0.3310 - val_acc: 0.8279 - val_loss: 0.3630 - learning_rate: 4.7830e-04\n",
      "Epoch 46/75\n",
      "\u001b[1m277/277\u001b[0m \u001b[32m━━━━━━━━━━━━━━━━━━━━\u001b[0m\u001b[37m\u001b[0m \u001b[1m0s\u001b[0m 518ms/step - acc: 0.8434 - loss: 0.3311\n",
      "Epoch 46: val_loss improved from 0.36305 to 0.36083, saving model to lstm_model_three_.46-0.360827.weights.h5\n",
      "\u001b[1m277/277\u001b[0m \u001b[32m━━━━━━━━━━━━━━━━━━━━\u001b[0m\u001b[37m\u001b[0m \u001b[1m174s\u001b[0m 627ms/step - acc: 0.8434 - loss: 0.3311 - val_acc: 0.8289 - val_loss: 0.3608 - learning_rate: 4.7830e-04\n",
      "Epoch 47/75\n",
      "\u001b[1m277/277\u001b[0m \u001b[32m━━━━━━━━━━━━━━━━━━━━\u001b[0m\u001b[37m\u001b[0m \u001b[1m0s\u001b[0m 521ms/step - acc: 0.8443 - loss: 0.3311\n",
      "Epoch 47: val_loss did not improve from 0.36083\n",
      "\u001b[1m277/277\u001b[0m \u001b[32m━━━━━━━━━━━━━━━━━━━━\u001b[0m\u001b[37m\u001b[0m \u001b[1m174s\u001b[0m 629ms/step - acc: 0.8443 - loss: 0.3311 - val_acc: 0.8279 - val_loss: 0.3652 - learning_rate: 4.7830e-04\n",
      "Epoch 48/75\n",
      "\u001b[1m277/277\u001b[0m \u001b[32m━━━━━━━━━━━━━━━━━━━━\u001b[0m\u001b[37m\u001b[0m \u001b[1m0s\u001b[0m 521ms/step - acc: 0.8451 - loss: 0.3313\n",
      "Epoch 48: val_loss did not improve from 0.36083\n",
      "\n",
      "Epoch 48: ReduceLROnPlateau reducing learning rate to 0.0004304672533180565.\n",
      "\u001b[1m277/277\u001b[0m \u001b[32m━━━━━━━━━━━━━━━━━━━━\u001b[0m\u001b[37m\u001b[0m \u001b[1m174s\u001b[0m 629ms/step - acc: 0.8451 - loss: 0.3313 - val_acc: 0.8283 - val_loss: 0.3626 - learning_rate: 4.7830e-04\n",
      "Epoch 49/75\n",
      "\u001b[1m277/277\u001b[0m \u001b[32m━━━━━━━━━━━━━━━━━━━━\u001b[0m\u001b[37m\u001b[0m \u001b[1m0s\u001b[0m 521ms/step - acc: 0.8452 - loss: 0.3306\n",
      "Epoch 49: val_loss did not improve from 0.36083\n",
      "\u001b[1m277/277\u001b[0m \u001b[32m━━━━━━━━━━━━━━━━━━━━\u001b[0m\u001b[37m\u001b[0m \u001b[1m174s\u001b[0m 630ms/step - acc: 0.8452 - loss: 0.3306 - val_acc: 0.8279 - val_loss: 0.3625 - learning_rate: 4.3047e-04\n",
      "Epoch 50/75\n",
      "\u001b[1m277/277\u001b[0m \u001b[32m━━━━━━━━━━━━━━━━━━━━\u001b[0m\u001b[37m\u001b[0m \u001b[1m0s\u001b[0m 521ms/step - acc: 0.8462 - loss: 0.3281\n",
      "Epoch 50: val_loss did not improve from 0.36083\n",
      "\n",
      "Epoch 50: ReduceLROnPlateau reducing learning rate to 0.00038742052274756136.\n",
      "\u001b[1m277/277\u001b[0m \u001b[32m━━━━━━━━━━━━━━━━━━━━\u001b[0m\u001b[37m\u001b[0m \u001b[1m175s\u001b[0m 630ms/step - acc: 0.8462 - loss: 0.3281 - val_acc: 0.8286 - val_loss: 0.3625 - learning_rate: 4.3047e-04\n",
      "Epoch 51/75\n",
      "\u001b[1m277/277\u001b[0m \u001b[32m━━━━━━━━━━━━━━━━━━━━\u001b[0m\u001b[37m\u001b[0m \u001b[1m0s\u001b[0m 519ms/step - acc: 0.8459 - loss: 0.3312\n",
      "Epoch 51: val_loss did not improve from 0.36083\n",
      "\u001b[1m277/277\u001b[0m \u001b[32m━━━━━━━━━━━━━━━━━━━━\u001b[0m\u001b[37m\u001b[0m \u001b[1m174s\u001b[0m 627ms/step - acc: 0.8459 - loss: 0.3312 - val_acc: 0.8278 - val_loss: 0.3642 - learning_rate: 3.8742e-04\n",
      "Epoch 52/75\n",
      "\u001b[1m277/277\u001b[0m \u001b[32m━━━━━━━━━━━━━━━━━━━━\u001b[0m\u001b[37m\u001b[0m \u001b[1m0s\u001b[0m 518ms/step - acc: 0.8460 - loss: 0.3289\n",
      "Epoch 52: val_loss did not improve from 0.36083\n",
      "\n",
      "Epoch 52: ReduceLROnPlateau reducing learning rate to 0.0003486784757114947.\n",
      "\u001b[1m277/277\u001b[0m \u001b[32m━━━━━━━━━━━━━━━━━━━━\u001b[0m\u001b[37m\u001b[0m \u001b[1m174s\u001b[0m 628ms/step - acc: 0.8460 - loss: 0.3289 - val_acc: 0.8267 - val_loss: 0.3649 - learning_rate: 3.8742e-04\n",
      "Epoch 53/75\n",
      "\u001b[1m277/277\u001b[0m \u001b[32m━━━━━━━━━━━━━━━━━━━━\u001b[0m\u001b[37m\u001b[0m \u001b[1m0s\u001b[0m 523ms/step - acc: 0.8451 - loss: 0.3309\n",
      "Epoch 53: val_loss did not improve from 0.36083\n",
      "\u001b[1m277/277\u001b[0m \u001b[32m━━━━━━━━━━━━━━━━━━━━\u001b[0m\u001b[37m\u001b[0m \u001b[1m175s\u001b[0m 633ms/step - acc: 0.8451 - loss: 0.3309 - val_acc: 0.8284 - val_loss: 0.3639 - learning_rate: 3.4868e-04\n",
      "Epoch 54/75\n",
      "\u001b[1m277/277\u001b[0m \u001b[32m━━━━━━━━━━━━━━━━━━━━\u001b[0m\u001b[37m\u001b[0m \u001b[1m0s\u001b[0m 519ms/step - acc: 0.8458 - loss: 0.3303\n",
      "Epoch 54: val_loss did not improve from 0.36083\n",
      "\n",
      "Epoch 54: ReduceLROnPlateau reducing learning rate to 0.00031381062290165574.\n",
      "\u001b[1m277/277\u001b[0m \u001b[32m━━━━━━━━━━━━━━━━━━━━\u001b[0m\u001b[37m\u001b[0m \u001b[1m174s\u001b[0m 629ms/step - acc: 0.8458 - loss: 0.3303 - val_acc: 0.8286 - val_loss: 0.3629 - learning_rate: 3.4868e-04\n",
      "Epoch 54: early stopping\n"
     ]
    }
   ],
   "source": [
    "history = model.fit([text_train_q1, text_train_q2, length_features_train], label_train,validation_data=([text_test_q1, text_test_q2, length_features_test], label_test),epochs=75, batch_size=1024,callbacks=[earlystopper, checkpointer, reduce_lr],verbose=1)"
   ]
  },
  {
   "cell_type": "code",
   "execution_count": 26,
   "id": "422ddb33-87b9-4cfa-9b06-aa00e7018040",
   "metadata": {},
   "outputs": [
    {
     "name": "stderr",
     "output_type": "stream",
     "text": [
      "WARNING:absl:You are saving your model as an HDF5 file via `model.save()` or `keras.saving.save_model(model)`. This file format is considered legacy. We recommend using instead the native Keras format, e.g. `model.save('my_model.keras')` or `keras.saving.save_model(model, 'my_model.keras')`. \n"
     ]
    }
   ],
   "source": [
    "from keras.models import load_model\n",
    "model.save('siemse_lstm_3_with_3rd_feature.h5')"
   ]
  },
  {
   "cell_type": "code",
   "execution_count": 27,
   "id": "f0873525-e567-498d-9237-e1ce53342698",
   "metadata": {},
   "outputs": [
    {
     "name": "stdout",
     "output_type": "stream",
     "text": [
      "min_train_loss=0.329029, min_val_loss=0.360827, max_train_acc=0.846221, max_val_acc=0.828935\n"
     ]
    }
   ],
   "source": [
    "min_val_loss = min(history.history[\"val_loss\"])\n",
    "min_train_loss = min(history.history[\"loss\"])\n",
    "max_val_acc = max(history.history[\"val_acc\"])\n",
    "max_train_acc = max(history.history[\"acc\"])\n",
    "print(\"min_train_loss=%g, min_val_loss=%g, max_train_acc=%g, max_val_acc=%g\" % (min_train_loss,min_val_loss,max_train_acc,max_val_acc))"
   ]
  },
  {
   "cell_type": "code",
   "execution_count": 23,
   "id": "627fff01-6975-4dbc-9de5-8736e7c5bbc7",
   "metadata": {},
   "outputs": [
    {
     "data": {
      "image/png": "[encoded data removed]",
      "text/plain": [
       "<Figure size 640x480 with 1 Axes>"
      ]
     },
     "metadata": {},
     "output_type": "display_data"
    }
   ],
   "source": [
    "from matplotlib import pyplot as plt\n",
    "plt.plot(history.history[\"loss\"],color = 'red', label = 'loss')\n",
    "plt.plot(history.history[\"val_loss\"],color = 'blue', label = 'val_loss')\n",
    "plt.title('Loss Visualisation')\n",
    "plt.xlabel('epochs')\n",
    "plt.ylabel('loss')\n",
    "plt.legend()\n",
    "plt.savefig('loss_siamese_lstm_3_with_3rd_feature.pdf',dpi=1000)"
   ]
  },
  {
   "cell_type": "code",
   "execution_count": 24,
   "id": "6a6dea92-aa2c-42b0-a237-f13b7ef84fb4",
   "metadata": {},
   "outputs": [
    {
     "data": {
      "image/png": "[encoded data removed]",
      "text/plain": [
       "<Figure size 640x480 with 1 Axes>"
      ]
     },
     "metadata": {},
     "output_type": "display_data"
    }
   ],
   "source": [
    "plt.plot(history.history[\"acc\"],color = 'red', label = 'acc')\n",
    "plt.plot(history.history[\"val_acc\"],color = 'blue', label = 'val_acc')\n",
    "plt.title('Accuracy Visualisation')\n",
    "plt.xlabel('epochs')\n",
    "plt.ylabel('accuracy')\n",
    "plt.legend()\n",
    "plt.savefig('acc_siamese_lstm_3_with_3rd_feature.pdf',dpi=1000)"
   ]
  },
  {
   "cell_type": "code",
   "execution_count": 25,
   "id": "27899f13-f88c-4985-b823-384839f52df9",
   "metadata": {},
   "outputs": [
    {
     "name": "stdout",
     "output_type": "stream",
     "text": [
      "\u001b[1m3791/3791\u001b[0m \u001b[32m━━━━━━━━━━━━━━━━━━━━\u001b[0m\u001b[37m\u001b[0m \u001b[1m101s\u001b[0m 27ms/step\n",
      "              precision    recall  f1-score   support\n",
      "\n",
      "           0       0.88      0.84      0.86     76350\n",
      "           1       0.75      0.81      0.78     44937\n",
      "\n",
      "   micro avg       0.83      0.83      0.83    121287\n",
      "   macro avg       0.82      0.83      0.82    121287\n",
      "weighted avg       0.83      0.83      0.83    121287\n",
      " samples avg       0.83      0.83      0.83    121287\n",
      "\n"
     ]
    }
   ],
   "source": [
    "model_predictions = model.predict([text_test_q1, text_test_q2, length_features_test])\n",
    "predictions = np.zeros_like(model_predictions)\n",
    "predictions[np.arange(len(model_predictions)), model_predictions.argmax(1)] = 1\n",
    "from sklearn.metrics import classification_report\n",
    "print(classification_report(label_test,predictions))"
   ]
  }
 ],
 "metadata": {
  "kernelspec": {
   "display_name": "Python 3 (ipykernel)",
   "language": "python",
   "name": "python3"
  },
  "language_info": {
   "codemirror_mode": {
    "name": "ipython",
    "version": 3
   },
   "file_extension": ".py",
   "mimetype": "text/x-python",
   "name": "python",
   "nbconvert_exporter": "python",
   "pygments_lexer": "ipython3",
   "version": "3.10.12"
  }
 },
 "nbformat": 4,
 "nbformat_minor": 5
}
